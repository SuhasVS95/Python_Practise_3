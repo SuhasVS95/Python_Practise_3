{
 "cells": [
  {
   "cell_type": "markdown",
   "metadata": {},
   "source": [
    "# Write a function to print odd numbers from num1 to num2 and return count."
   ]
  },
  {
   "cell_type": "code",
   "execution_count": 17,
   "metadata": {},
   "outputs": [
    {
     "name": "stdout",
     "output_type": "stream",
     "text": [
      "The number 1 is odd\n",
      "The number 3 is odd\n",
      "The number 5 is odd\n",
      "The number 7 is odd\n",
      "The number 9 is odd\n",
      "The odd numbers between 1 and 10 is [1, 3, 5, 7, 9]\n"
     ]
    },
    {
     "data": {
      "text/plain": [
       "5"
      ]
     },
     "execution_count": 17,
     "metadata": {},
     "output_type": "execute_result"
    }
   ],
   "source": [
    "def printoddnumbers(num1,num2):\n",
    "    \n",
    "    i=num1\n",
    "    count=0\n",
    "    j=i\n",
    "    cont=[]\n",
    "    while j<=num2:\n",
    "        if j%2!=0:\n",
    "            count=count+1\n",
    "            cont.append(j)\n",
    "            print(\"The number {} is odd\".format(j))\n",
    "        j=j+1\n",
    "    print(f\"The odd numbers between {num1} and {num2} is\", cont)\n",
    "    return count\n",
    "\n",
    "\n",
    "printoddnumbers(1,10)         "
   ]
  },
  {
   "cell_type": "markdown",
   "metadata": {},
   "source": [
    "# Write a function to print Even numbers from num1 to num2 and return count."
   ]
  },
  {
   "cell_type": "code",
   "execution_count": 18,
   "metadata": {},
   "outputs": [
    {
     "name": "stdout",
     "output_type": "stream",
     "text": [
      "The number 2 is even\n",
      "The number 4 is even\n",
      "The number 6 is even\n",
      "The number 8 is even\n",
      "The number 10 is even\n",
      "The even numbers between 1 and 10 is [2, 4, 6, 8, 10]\n"
     ]
    },
    {
     "data": {
      "text/plain": [
       "5"
      ]
     },
     "execution_count": 18,
     "metadata": {},
     "output_type": "execute_result"
    }
   ],
   "source": [
    "def printevennumbers(num1,num2):\n",
    "    \n",
    "    i=num1\n",
    "    count=0\n",
    "    j=i\n",
    "    cont=[]\n",
    "    while j<=num2:\n",
    "        if j%2==0:\n",
    "            count=count+1\n",
    "            cont.append(j)\n",
    "            print(\"The number {} is even\".format(j))\n",
    "        j=j+1\n",
    "    print(f\"The even numbers between {num1} and {num2} is\", cont)\n",
    "    return count\n",
    "\n",
    "\n",
    "printevennumbers(1,10)"
   ]
  },
  {
   "cell_type": "code",
   "execution_count": 7,
   "metadata": {},
   "outputs": [
    {
     "name": "stdout",
     "output_type": "stream",
     "text": [
      "Enter a number: 14\n",
      "14 is not a prime number\n",
      "7 times 2 is 14\n"
     ]
    }
   ],
   "source": [
    "# Program to check if a number is prime or not\n",
    "\n",
    "\n",
    "num = int(input(\"Enter a number: \"))\n",
    "\n",
    "\n",
    "if num > 1:\n",
    "   \n",
    "    if(num==2):\n",
    "\n",
    "        print(num,\"is a prime number\")\n",
    "    else:\n",
    "       \n",
    "        for i in range(3,num):\n",
    "            \n",
    "            if((num % i) == 0):\n",
    "                print(num,\"is not a prime number\")\n",
    "                print(i,\"times\",num//i,\"is\",num)\n",
    "                break\n",
    "            \n",
    "        else:\n",
    "                print(num,\"is a prime number\")\n"
   ]
  }
 ],
 "metadata": {
  "kernelspec": {
   "display_name": "Python 3",
   "language": "python",
   "name": "python3"
  },
  "language_info": {
   "codemirror_mode": {
    "name": "ipython",
    "version": 3
   },
   "file_extension": ".py",
   "mimetype": "text/x-python",
   "name": "python",
   "nbconvert_exporter": "python",
   "pygments_lexer": "ipython3",
   "version": "3.7.6"
  }
 },
 "nbformat": 4,
 "nbformat_minor": 4
}
